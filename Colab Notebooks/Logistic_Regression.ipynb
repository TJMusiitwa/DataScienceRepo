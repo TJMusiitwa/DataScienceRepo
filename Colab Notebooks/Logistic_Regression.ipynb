{
 "cells": [
  {
   "cell_type": "code",
   "execution_count": 0,
   "metadata": {
    "colab": {},
    "colab_type": "code",
    "id": "AbOg1D_tfXH4"
   },
   "outputs": [],
   "source": [
    "from sklearn.linear_model import LogisticRegression\n",
    "import pandas as pd\n",
    "from sklearn import datasets\n",
    "import numpy as np\n",
    "import seaborn as sns\n",
    "import matplotlib.pyplot as plt\n",
    "from sklearn.metrics import classification_report\n",
    "from sklearn.metrics import confusion_matrix"
   ]
  },
  {
   "cell_type": "code",
   "execution_count": 0,
   "metadata": {
    "colab": {},
    "colab_type": "code",
    "id": "MqQNCF_zfnj3"
   },
   "outputs": [],
   "source": [
    "%matplotlib inline"
   ]
  },
  {
   "cell_type": "code",
   "execution_count": 0,
   "metadata": {
    "colab": {},
    "colab_type": "code",
    "id": "7FtGpFp0ee4c"
   },
   "outputs": [],
   "source": [
    "sns.set_style('whitegrid')"
   ]
  },
  {
   "cell_type": "markdown",
   "metadata": {
    "colab_type": "text",
    "id": "5YxxBH5xZ53V"
   },
   "source": [
    "# Data Exploration"
   ]
  },
  {
   "cell_type": "code",
   "execution_count": 33,
   "metadata": {
    "colab": {
     "base_uri": "https://localhost:8080/",
     "height": 143
    },
    "colab_type": "code",
    "executionInfo": {
     "elapsed": 770,
     "status": "ok",
     "timestamp": 1544150237595,
     "user": {
      "displayName": "Jonathan Musiitwa",
      "photoUrl": "https://lh4.googleusercontent.com/-evRdL6KJzvo/AAAAAAAAAAI/AAAAAAAAHJo/eWkvEhPovMA/s64/photo.jpg",
      "userId": "13624096232585697906"
     },
     "user_tz": -480
    },
    "id": "2MXLBAiJaoXz",
    "outputId": "bcb1d7bb-9911-4b50-9cb3-c0ffbe79e86d"
   },
   "outputs": [
    {
     "data": {
      "text/html": [
       "<div>\n",
       "<style scoped>\n",
       "    .dataframe tbody tr th:only-of-type {\n",
       "        vertical-align: middle;\n",
       "    }\n",
       "\n",
       "    .dataframe tbody tr th {\n",
       "        vertical-align: top;\n",
       "    }\n",
       "\n",
       "    .dataframe thead th {\n",
       "        text-align: right;\n",
       "    }\n",
       "</style>\n",
       "<table border=\"1\" class=\"dataframe\">\n",
       "  <thead>\n",
       "    <tr style=\"text-align: right;\">\n",
       "      <th></th>\n",
       "      <th>pclass</th>\n",
       "      <th>survived</th>\n",
       "      <th>name</th>\n",
       "      <th>sex</th>\n",
       "      <th>age</th>\n",
       "      <th>sibsp</th>\n",
       "      <th>parch</th>\n",
       "      <th>ticket</th>\n",
       "      <th>fare</th>\n",
       "      <th>cabin</th>\n",
       "      <th>embarked</th>\n",
       "      <th>boat</th>\n",
       "      <th>body</th>\n",
       "      <th>home.dest</th>\n",
       "    </tr>\n",
       "  </thead>\n",
       "  <tbody>\n",
       "    <tr>\n",
       "      <th>0</th>\n",
       "      <td>3</td>\n",
       "      <td>0</td>\n",
       "      <td>Mahon Miss. Bridget Delia</td>\n",
       "      <td>female</td>\n",
       "      <td>NaN</td>\n",
       "      <td>0</td>\n",
       "      <td>0</td>\n",
       "      <td>330924</td>\n",
       "      <td>7.8792</td>\n",
       "      <td>NaN</td>\n",
       "      <td>Q</td>\n",
       "      <td>NaN</td>\n",
       "      <td>NaN</td>\n",
       "      <td>NaN</td>\n",
       "    </tr>\n",
       "    <tr>\n",
       "      <th>1</th>\n",
       "      <td>1</td>\n",
       "      <td>0</td>\n",
       "      <td>Clifford Mr. George Quincy</td>\n",
       "      <td>male</td>\n",
       "      <td>NaN</td>\n",
       "      <td>0</td>\n",
       "      <td>0</td>\n",
       "      <td>110465</td>\n",
       "      <td>52.0000</td>\n",
       "      <td>A14</td>\n",
       "      <td>S</td>\n",
       "      <td>NaN</td>\n",
       "      <td>NaN</td>\n",
       "      <td>Stoughton MA</td>\n",
       "    </tr>\n",
       "    <tr>\n",
       "      <th>2</th>\n",
       "      <td>3</td>\n",
       "      <td>0</td>\n",
       "      <td>Yasbeck Mr. Antoni</td>\n",
       "      <td>male</td>\n",
       "      <td>27.0</td>\n",
       "      <td>1</td>\n",
       "      <td>0</td>\n",
       "      <td>2659</td>\n",
       "      <td>14.4542</td>\n",
       "      <td>NaN</td>\n",
       "      <td>C</td>\n",
       "      <td>C</td>\n",
       "      <td>NaN</td>\n",
       "      <td>NaN</td>\n",
       "    </tr>\n",
       "  </tbody>\n",
       "</table>\n",
       "</div>"
      ],
      "text/plain": [
       "   pclass  survived                        name     sex   age  sibsp  parch  \\\n",
       "0       3         0   Mahon Miss. Bridget Delia  female   NaN      0      0   \n",
       "1       1         0  Clifford Mr. George Quincy    male   NaN      0      0   \n",
       "2       3         0          Yasbeck Mr. Antoni    male  27.0      1      0   \n",
       "\n",
       "   ticket     fare cabin embarked boat  body     home.dest  \n",
       "0  330924   7.8792   NaN        Q  NaN   NaN           NaN  \n",
       "1  110465  52.0000   A14        S  NaN   NaN  Stoughton MA  \n",
       "2    2659  14.4542   NaN        C    C   NaN           NaN  "
      ]
     },
     "execution_count": 33,
     "metadata": {
      "tags": []
     },
     "output_type": "execute_result"
    }
   ],
   "source": [
    "train = pd.read_csv('https://raw.githubusercontent.com/alexisperrier/packt-aml/master/ch4/titanic_train.csv')\n",
    "train.head(3)"
   ]
  },
  {
   "cell_type": "code",
   "execution_count": 0,
   "metadata": {
    "colab": {},
    "colab_type": "code",
    "id": "IyCEeMrDb3Nn"
   },
   "outputs": [],
   "source": [
    "test = pd.read_csv('https://raw.githubusercontent.com/alexisperrier/packt-aml/master/ch4/titanic_heldout.csv')\n",
    "test.head()"
   ]
  },
  {
   "cell_type": "code",
   "execution_count": 38,
   "metadata": {
    "colab": {
     "base_uri": "https://localhost:8080/",
     "height": 330
    },
    "colab_type": "code",
    "executionInfo": {
     "elapsed": 828,
     "status": "ok",
     "timestamp": 1544150366531,
     "user": {
      "displayName": "Jonathan Musiitwa",
      "photoUrl": "https://lh4.googleusercontent.com/-evRdL6KJzvo/AAAAAAAAAAI/AAAAAAAAHJo/eWkvEhPovMA/s64/photo.jpg",
      "userId": "13624096232585697906"
     },
     "user_tz": -480
    },
    "id": "WZZI95VicZe5",
    "outputId": "05b5abf5-a125-43fc-caea-8f674f40f68e"
   },
   "outputs": [
    {
     "name": "stdout",
     "output_type": "stream",
     "text": [
      "<class 'pandas.core.frame.DataFrame'>\n",
      "Int64Index: 1046 entries, 0 to 1045\n",
      "Data columns (total 13 columns):\n",
      "pclass      1046 non-null int64\n",
      "survived    1046 non-null int64\n",
      "name        1046 non-null object\n",
      "sex         1046 non-null object\n",
      "age         844 non-null float64\n",
      "sibsp       1046 non-null int64\n",
      "parch       1046 non-null int64\n",
      "ticket      1046 non-null object\n",
      "fare        1045 non-null float64\n",
      "embarked    1044 non-null object\n",
      "male        1043 non-null float64\n",
      "Q           1043 non-null float64\n",
      "S           1043 non-null float64\n",
      "dtypes: float64(5), int64(4), object(4)\n",
      "memory usage: 114.4+ KB\n"
     ]
    }
   ],
   "source": [
    "train.info()"
   ]
  },
  {
   "cell_type": "code",
   "execution_count": 0,
   "metadata": {
    "colab": {
     "base_uri": "https://localhost:8080/",
     "height": 319
    },
    "colab_type": "code",
    "executionInfo": {
     "elapsed": 2037,
     "status": "ok",
     "timestamp": 1544034037637,
     "user": {
      "displayName": "Jonathan Musiitwa",
      "photoUrl": "https://lh4.googleusercontent.com/-evRdL6KJzvo/AAAAAAAAAAI/AAAAAAAAHJo/eWkvEhPovMA/s64/photo.jpg",
      "userId": "13624096232585697906"
     },
     "user_tz": -480
    },
    "id": "KjxfrewocdOc",
    "outputId": "ed0f37b6-2e1c-4e1f-cf9f-d9269049c198"
   },
   "outputs": [
    {
     "data": {
      "text/plain": [
       "<matplotlib.axes._subplots.AxesSubplot at 0x7fe29f359c50>"
      ]
     },
     "execution_count": 12,
     "metadata": {
      "tags": []
     },
     "output_type": "execute_result"
    },
    {
     "data": {
      "image/png": "[encoded data removed]",
      "text/plain": [
       "<matplotlib.figure.Figure at 0x7fe29f399a90>"
      ]
     },
     "metadata": {
      "tags": []
     },
     "output_type": "display_data"
    }
   ],
   "source": [
    "sns.heatmap(train.isnull(), yticklabels=False, cbar=False, cmap='viridis')"
   ]
  },
  {
   "cell_type": "code",
   "execution_count": 0,
   "metadata": {
    "colab": {
     "base_uri": "https://localhost:8080/",
     "height": 351
    },
    "colab_type": "code",
    "executionInfo": {
     "elapsed": 805,
     "status": "ok",
     "timestamp": 1544034410682,
     "user": {
      "displayName": "Jonathan Musiitwa",
      "photoUrl": "https://lh4.googleusercontent.com/-evRdL6KJzvo/AAAAAAAAAAI/AAAAAAAAHJo/eWkvEhPovMA/s64/photo.jpg",
      "userId": "13624096232585697906"
     },
     "user_tz": -480
    },
    "id": "WO9TSJ9Zau0q",
    "outputId": "5084a3ad-eb93-49cc-e2f8-fa0e5baaa614"
   },
   "outputs": [
    {
     "name": "stderr",
     "output_type": "stream",
     "text": [
      "/usr/local/lib/python3.6/dist-packages/seaborn/categorical.py:1468: FutureWarning: remove_na is deprecated and is a private function. Do not use.\n",
      "  stat_data = remove_na(group_data[hue_mask])\n"
     ]
    },
    {
     "data": {
      "text/plain": [
       "<matplotlib.axes._subplots.AxesSubplot at 0x7fe29ca86ac8>"
      ]
     },
     "execution_count": 15,
     "metadata": {
      "tags": []
     },
     "output_type": "execute_result"
    },
    {
     "data": {
      "image/png": "[encoded data removed]",
      "text/plain": [
       "<matplotlib.figure.Figure at 0x7fe29fade630>"
      ]
     },
     "metadata": {
      "tags": []
     },
     "output_type": "display_data"
    }
   ],
   "source": [
    "sns.countplot(x='survived', hue='sex', data=train)"
   ]
  },
  {
   "cell_type": "code",
   "execution_count": 6,
   "metadata": {
    "colab": {
     "base_uri": "https://localhost:8080/",
     "height": 331
    },
    "colab_type": "code",
    "executionInfo": {
     "elapsed": 1095,
     "status": "ok",
     "timestamp": 1544148342681,
     "user": {
      "displayName": "Jonathan Musiitwa",
      "photoUrl": "https://lh4.googleusercontent.com/-evRdL6KJzvo/AAAAAAAAAAI/AAAAAAAAHJo/eWkvEhPovMA/s64/photo.jpg",
      "userId": "13624096232585697906"
     },
     "user_tz": -480
    },
    "id": "NjTr4r2KnqFV",
    "outputId": "dd9df3a5-94b5-45e1-d1e3-ea312aedff3f"
   },
   "outputs": [
    {
     "name": "stderr",
     "output_type": "stream",
     "text": [
      "/usr/local/lib/python3.6/dist-packages/seaborn/categorical.py:1468: FutureWarning: remove_na is deprecated and is a private function. Do not use.\n",
      "  stat_data = remove_na(group_data[hue_mask])\n"
     ]
    },
    {
     "data": {
      "text/plain": [
       "<matplotlib.axes._subplots.AxesSubplot at 0x7f1f88370278>"
      ]
     },
     "execution_count": 6,
     "metadata": {
      "tags": []
     },
     "output_type": "execute_result"
    },
    {
     "data": {
      "image/png": "[encoded data removed]",
      "text/plain": [
       "<matplotlib.figure.Figure at 0x7f1f8838aa90>"
      ]
     },
     "metadata": {
      "tags": []
     },
     "output_type": "display_data"
    }
   ],
   "source": [
    "sns.countplot(x='survived', hue='pclass', data=train)"
   ]
  },
  {
   "cell_type": "code",
   "execution_count": 9,
   "metadata": {
    "colab": {
     "base_uri": "https://localhost:8080/",
     "height": 296
    },
    "colab_type": "code",
    "executionInfo": {
     "elapsed": 813,
     "status": "ok",
     "timestamp": 1544148411355,
     "user": {
      "displayName": "Jonathan Musiitwa",
      "photoUrl": "https://lh4.googleusercontent.com/-evRdL6KJzvo/AAAAAAAAAAI/AAAAAAAAHJo/eWkvEhPovMA/s64/photo.jpg",
      "userId": "13624096232585697906"
     },
     "user_tz": -480
    },
    "id": "tsVswYSuaglW",
    "outputId": "33c60396-cf50-47c2-d7dd-e02711d472be"
   },
   "outputs": [
    {
     "data": {
      "text/plain": [
       "<matplotlib.axes._subplots.AxesSubplot at 0x7f1f85835ac8>"
      ]
     },
     "execution_count": 9,
     "metadata": {
      "tags": []
     },
     "output_type": "execute_result"
    },
    {
     "data": {
      "image/png": "[encoded data removed]",
      "text/plain": [
       "<matplotlib.figure.Figure at 0x7f1f85789e80>"
      ]
     },
     "metadata": {
      "tags": []
     },
     "output_type": "display_data"
    }
   ],
   "source": [
    "sns.distplot(train['age'].dropna(), kde=False, bins=30)"
   ]
  },
  {
   "cell_type": "code",
   "execution_count": 10,
   "metadata": {
    "colab": {
     "base_uri": "https://localhost:8080/",
     "height": 331
    },
    "colab_type": "code",
    "executionInfo": {
     "elapsed": 1009,
     "status": "ok",
     "timestamp": 1544148482196,
     "user": {
      "displayName": "Jonathan Musiitwa",
      "photoUrl": "https://lh4.googleusercontent.com/-evRdL6KJzvo/AAAAAAAAAAI/AAAAAAAAHJo/eWkvEhPovMA/s64/photo.jpg",
      "userId": "13624096232585697906"
     },
     "user_tz": -480
    },
    "id": "mOdHI5hNaqDB",
    "outputId": "54423890-3a8a-420f-c218-7d699e4039ae"
   },
   "outputs": [
    {
     "name": "stderr",
     "output_type": "stream",
     "text": [
      "/usr/local/lib/python3.6/dist-packages/seaborn/categorical.py:1428: FutureWarning: remove_na is deprecated and is a private function. Do not use.\n",
      "  stat_data = remove_na(group_data)\n"
     ]
    },
    {
     "data": {
      "text/plain": [
       "<matplotlib.axes._subplots.AxesSubplot at 0x7f1f857ae048>"
      ]
     },
     "execution_count": 10,
     "metadata": {
      "tags": []
     },
     "output_type": "execute_result"
    },
    {
     "data": {
      "image/png": "[encoded data removed]",
      "text/plain": [
       "<matplotlib.figure.Figure at 0x7f1f85a906d8>"
      ]
     },
     "metadata": {
      "tags": []
     },
     "output_type": "display_data"
    }
   ],
   "source": [
    "sns.countplot(x='sibsp', data=train)"
   ]
  },
  {
   "cell_type": "code",
   "execution_count": 12,
   "metadata": {
    "colab": {
     "base_uri": "https://localhost:8080/",
     "height": 284
    },
    "colab_type": "code",
    "executionInfo": {
     "elapsed": 834,
     "status": "ok",
     "timestamp": 1544148545340,
     "user": {
      "displayName": "Jonathan Musiitwa",
      "photoUrl": "https://lh4.googleusercontent.com/-evRdL6KJzvo/AAAAAAAAAAI/AAAAAAAAHJo/eWkvEhPovMA/s64/photo.jpg",
      "userId": "13624096232585697906"
     },
     "user_tz": -480
    },
    "id": "1DfXDP7cbGv5",
    "outputId": "57e615f8-9802-4ca8-dd4b-5faa3b907014"
   },
   "outputs": [
    {
     "data": {
      "text/plain": [
       "<matplotlib.axes._subplots.AxesSubplot at 0x7f1f8568de80>"
      ]
     },
     "execution_count": 12,
     "metadata": {
      "tags": []
     },
     "output_type": "execute_result"
    },
    {
     "data": {
      "image/png": "[encoded data removed]",
      "text/plain": [
       "<matplotlib.figure.Figure at 0x7f1f856af4a8>"
      ]
     },
     "metadata": {
      "tags": []
     },
     "output_type": "display_data"
    }
   ],
   "source": [
    "train['fare'].hist(bins=50)"
   ]
  },
  {
   "cell_type": "code",
   "execution_count": 105,
   "metadata": {
    "colab": {
     "base_uri": "https://localhost:8080/",
     "height": 282
    },
    "colab_type": "code",
    "executionInfo": {
     "elapsed": 1569,
     "status": "ok",
     "timestamp": 1544158797607,
     "user": {
      "displayName": "Jonathan Musiitwa",
      "photoUrl": "https://lh4.googleusercontent.com/-evRdL6KJzvo/AAAAAAAAAAI/AAAAAAAAHJo/eWkvEhPovMA/s64/photo.jpg",
      "userId": "13624096232585697906"
     },
     "user_tz": -480
    },
    "id": "wGv7gwLGCBiZ",
    "outputId": "2ac71387-6aea-469a-e489-44a0880c4ca0"
   },
   "outputs": [
    {
     "data": {
      "text/plain": [
       "<matplotlib.axes._subplots.AxesSubplot at 0x7f1f84b23c18>"
      ]
     },
     "execution_count": 105,
     "metadata": {
      "tags": []
     },
     "output_type": "execute_result"
    },
    {
     "data": {
      "image/png": "[encoded data removed]",
      "text/plain": [
       "<matplotlib.figure.Figure at 0x7f1f84b7e550>"
      ]
     },
     "metadata": {
      "tags": []
     },
     "output_type": "display_data"
    }
   ],
   "source": [
    "sns.heatmap(train.corr(), annot=True)"
   ]
  },
  {
   "cell_type": "markdown",
   "metadata": {
    "colab_type": "text",
    "id": "MX9K6mVPjo_9"
   },
   "source": [
    "# Data Cleaning"
   ]
  },
  {
   "cell_type": "code",
   "execution_count": 15,
   "metadata": {
    "colab": {
     "base_uri": "https://localhost:8080/",
     "height": 331
    },
    "colab_type": "code",
    "executionInfo": {
     "elapsed": 1020,
     "status": "ok",
     "timestamp": 1544148852436,
     "user": {
      "displayName": "Jonathan Musiitwa",
      "photoUrl": "https://lh4.googleusercontent.com/-evRdL6KJzvo/AAAAAAAAAAI/AAAAAAAAHJo/eWkvEhPovMA/s64/photo.jpg",
      "userId": "13624096232585697906"
     },
     "user_tz": -480
    },
    "id": "RuVxr-rgbLXq",
    "outputId": "08ee8322-b486-4ea9-cb87-39d872d3b2f7"
   },
   "outputs": [
    {
     "name": "stderr",
     "output_type": "stream",
     "text": [
      "/usr/local/lib/python3.6/dist-packages/seaborn/categorical.py:454: FutureWarning: remove_na is deprecated and is a private function. Do not use.\n",
      "  box_data = remove_na(group_data)\n"
     ]
    },
    {
     "data": {
      "text/plain": [
       "<matplotlib.axes._subplots.AxesSubplot at 0x7f1f854e0dd8>"
      ]
     },
     "execution_count": 15,
     "metadata": {
      "tags": []
     },
     "output_type": "execute_result"
    },
    {
     "data": {
      "image/png": "[encoded data removed]",
      "text/plain": [
       "<matplotlib.figure.Figure at 0x7f1f854d6390>"
      ]
     },
     "metadata": {
      "tags": []
     },
     "output_type": "display_data"
    }
   ],
   "source": [
    "sns.boxplot(x='pclass', y='age',data=train)"
   ]
  },
  {
   "cell_type": "markdown",
   "metadata": {
    "colab_type": "text",
    "id": "v7NmFCCRccvL"
   },
   "source": [
    "To fill in the missing data for the age column we shall do so by imputing the column data"
   ]
  },
  {
   "cell_type": "code",
   "execution_count": 0,
   "metadata": {
    "colab": {},
    "colab_type": "code",
    "id": "n1OZ4D80cPzY"
   },
   "outputs": [],
   "source": [
    "def impute_age(cols):\n",
    "  age = cols[0]\n",
    "  pclass = cols[1]\n",
    "  \n",
    "  if pd.isnull(age):\n",
    "    if pclass == 1:\n",
    "      return 37\n",
    "    elif pclass == 2:\n",
    "      return 29\n",
    "    else:\n",
    "      return 24\n",
    "  else: \n",
    "      return age"
   ]
  },
  {
   "cell_type": "code",
   "execution_count": 0,
   "metadata": {
    "colab": {},
    "colab_type": "code",
    "id": "c0YH1hjzeiB4"
   },
   "outputs": [],
   "source": [
    "train['age'] = train[['age', 'pclass']].apply(impute_age, axis=1)"
   ]
  },
  {
   "cell_type": "code",
   "execution_count": 41,
   "metadata": {
    "colab": {
     "base_uri": "https://localhost:8080/",
     "height": 317
    },
    "colab_type": "code",
    "executionInfo": {
     "elapsed": 868,
     "status": "ok",
     "timestamp": 1544150407644,
     "user": {
      "displayName": "Jonathan Musiitwa",
      "photoUrl": "https://lh4.googleusercontent.com/-evRdL6KJzvo/AAAAAAAAAAI/AAAAAAAAHJo/eWkvEhPovMA/s64/photo.jpg",
      "userId": "13624096232585697906"
     },
     "user_tz": -480
    },
    "id": "hmiff3-ae8VU",
    "outputId": "b1a7b256-e7c3-4f41-be5b-d91b0bd2232b"
   },
   "outputs": [
    {
     "data": {
      "text/plain": [
       "<matplotlib.axes._subplots.AxesSubplot at 0x7f1f853844a8>"
      ]
     },
     "execution_count": 41,
     "metadata": {
      "tags": []
     },
     "output_type": "execute_result"
    },
    {
     "data": {
      "image/png": "[encoded data removed]",
      "text/plain": [
       "<matplotlib.figure.Figure at 0x7f1f85375d68>"
      ]
     },
     "metadata": {
      "tags": []
     },
     "output_type": "display_data"
    }
   ],
   "source": [
    "#Rerun the heat map to show which values \n",
    "sns.heatmap(train.isnull(), yticklabels=False, cbar=False, cmap='viridis')"
   ]
  },
  {
   "cell_type": "code",
   "execution_count": 0,
   "metadata": {
    "colab": {},
    "colab_type": "code",
    "id": "JwQjL5Q3fShw"
   },
   "outputs": [],
   "source": [
    "train.drop(['cabin', 'boat', 'body', 'home.dest'], axis=1, inplace=True)"
   ]
  },
  {
   "cell_type": "code",
   "execution_count": 0,
   "metadata": {
    "colab": {},
    "colab_type": "code",
    "id": "zXOcetK_gDG5"
   },
   "outputs": [],
   "source": [
    "train.dropna(inplace=True)"
   ]
  },
  {
   "cell_type": "markdown",
   "metadata": {
    "colab_type": "text",
    "id": "sltq7rf4gNk_"
   },
   "source": [
    "Convert categorical features into dummy variables "
   ]
  },
  {
   "cell_type": "code",
   "execution_count": 0,
   "metadata": {
    "colab": {},
    "colab_type": "code",
    "id": "GeGurRB6gete"
   },
   "outputs": [],
   "source": [
    "is_male = pd.get_dummies(train['sex'],drop_first=True)\n",
    "embarked = pd.get_dummies(train['embarked'],drop_first=True)"
   ]
  },
  {
   "cell_type": "code",
   "execution_count": 0,
   "metadata": {
    "colab": {},
    "colab_type": "code",
    "id": "02E61Xm8hE6Z"
   },
   "outputs": [],
   "source": [
    "train = pd.concat([train,is_male,embarked], axis=1)"
   ]
  },
  {
   "cell_type": "code",
   "execution_count": 47,
   "metadata": {
    "colab": {
     "base_uri": "https://localhost:8080/",
     "height": 206
    },
    "colab_type": "code",
    "executionInfo": {
     "elapsed": 1413,
     "status": "ok",
     "timestamp": 1544150654968,
     "user": {
      "displayName": "Jonathan Musiitwa",
      "photoUrl": "https://lh4.googleusercontent.com/-evRdL6KJzvo/AAAAAAAAAAI/AAAAAAAAHJo/eWkvEhPovMA/s64/photo.jpg",
      "userId": "13624096232585697906"
     },
     "user_tz": -480
    },
    "id": "cSzgj1sXh1ei",
    "outputId": "a7a53e0b-6c09-41be-ffb5-8bb3dc53b533"
   },
   "outputs": [
    {
     "data": {
      "text/html": [
       "<div>\n",
       "<style scoped>\n",
       "    .dataframe tbody tr th:only-of-type {\n",
       "        vertical-align: middle;\n",
       "    }\n",
       "\n",
       "    .dataframe tbody tr th {\n",
       "        vertical-align: top;\n",
       "    }\n",
       "\n",
       "    .dataframe thead th {\n",
       "        text-align: right;\n",
       "    }\n",
       "</style>\n",
       "<table border=\"1\" class=\"dataframe\">\n",
       "  <thead>\n",
       "    <tr style=\"text-align: right;\">\n",
       "      <th></th>\n",
       "      <th>pclass</th>\n",
       "      <th>survived</th>\n",
       "      <th>age</th>\n",
       "      <th>sibsp</th>\n",
       "      <th>parch</th>\n",
       "      <th>fare</th>\n",
       "      <th>male</th>\n",
       "      <th>Q</th>\n",
       "      <th>S</th>\n",
       "    </tr>\n",
       "  </thead>\n",
       "  <tbody>\n",
       "    <tr>\n",
       "      <th>0</th>\n",
       "      <td>3</td>\n",
       "      <td>0</td>\n",
       "      <td>24.0</td>\n",
       "      <td>0</td>\n",
       "      <td>0</td>\n",
       "      <td>7.8792</td>\n",
       "      <td>0.0</td>\n",
       "      <td>1.0</td>\n",
       "      <td>0.0</td>\n",
       "    </tr>\n",
       "    <tr>\n",
       "      <th>1</th>\n",
       "      <td>1</td>\n",
       "      <td>0</td>\n",
       "      <td>37.0</td>\n",
       "      <td>0</td>\n",
       "      <td>0</td>\n",
       "      <td>52.0000</td>\n",
       "      <td>1.0</td>\n",
       "      <td>0.0</td>\n",
       "      <td>1.0</td>\n",
       "    </tr>\n",
       "    <tr>\n",
       "      <th>2</th>\n",
       "      <td>3</td>\n",
       "      <td>0</td>\n",
       "      <td>27.0</td>\n",
       "      <td>1</td>\n",
       "      <td>0</td>\n",
       "      <td>14.4542</td>\n",
       "      <td>1.0</td>\n",
       "      <td>0.0</td>\n",
       "      <td>0.0</td>\n",
       "    </tr>\n",
       "    <tr>\n",
       "      <th>3</th>\n",
       "      <td>3</td>\n",
       "      <td>1</td>\n",
       "      <td>25.0</td>\n",
       "      <td>0</td>\n",
       "      <td>0</td>\n",
       "      <td>7.7958</td>\n",
       "      <td>1.0</td>\n",
       "      <td>0.0</td>\n",
       "      <td>1.0</td>\n",
       "    </tr>\n",
       "    <tr>\n",
       "      <th>4</th>\n",
       "      <td>3</td>\n",
       "      <td>0</td>\n",
       "      <td>34.5</td>\n",
       "      <td>0</td>\n",
       "      <td>0</td>\n",
       "      <td>7.8292</td>\n",
       "      <td>1.0</td>\n",
       "      <td>1.0</td>\n",
       "      <td>0.0</td>\n",
       "    </tr>\n",
       "  </tbody>\n",
       "</table>\n",
       "</div>"
      ],
      "text/plain": [
       "   pclass  survived   age  sibsp  parch     fare  male    Q    S\n",
       "0       3         0  24.0      0      0   7.8792   0.0  1.0  0.0\n",
       "1       1         0  37.0      0      0  52.0000   1.0  0.0  1.0\n",
       "2       3         0  27.0      1      0  14.4542   1.0  0.0  0.0\n",
       "3       3         1  25.0      0      0   7.7958   1.0  0.0  1.0\n",
       "4       3         0  34.5      0      0   7.8292   1.0  1.0  0.0"
      ]
     },
     "execution_count": 47,
     "metadata": {
      "tags": []
     },
     "output_type": "execute_result"
    }
   ],
   "source": [
    "train.head()"
   ]
  },
  {
   "cell_type": "code",
   "execution_count": 0,
   "metadata": {
    "colab": {},
    "colab_type": "code",
    "id": "T4ep6Rx8hg3z"
   },
   "outputs": [],
   "source": [
    "train.drop(['ticket','name','embarked','sex'], axis=1, inplace=True)"
   ]
  },
  {
   "cell_type": "markdown",
   "metadata": {
    "colab_type": "text",
    "id": "geqA720Mjwhm"
   },
   "source": [
    "# Model building"
   ]
  },
  {
   "cell_type": "code",
   "execution_count": 0,
   "metadata": {
    "colab": {},
    "colab_type": "code",
    "id": "cwTCtjnzjzLO"
   },
   "outputs": [],
   "source": [
    "X = train.drop('survived', axis=1)\n",
    "y = train['survived']"
   ]
  },
  {
   "cell_type": "code",
   "execution_count": 0,
   "metadata": {
    "colab": {},
    "colab_type": "code",
    "id": "9q5jIVN7kNOP"
   },
   "outputs": [],
   "source": [
    "from sklearn.cross_validation import train_test_split"
   ]
  },
  {
   "cell_type": "code",
   "execution_count": 0,
   "metadata": {
    "colab": {},
    "colab_type": "code",
    "id": "WyqYTBDIkT_M"
   },
   "outputs": [],
   "source": [
    "X_train, X_test, y_train, y_test = train_test_split(X, y, test_size=0.30, random_state=100)"
   ]
  },
  {
   "cell_type": "code",
   "execution_count": 0,
   "metadata": {
    "colab": {},
    "colab_type": "code",
    "id": "WeRo0Zxmk-Vx"
   },
   "outputs": [],
   "source": [
    "logmodel = LogisticRegression()"
   ]
  },
  {
   "cell_type": "code",
   "execution_count": 62,
   "metadata": {
    "colab": {
     "base_uri": "https://localhost:8080/",
     "height": 106
    },
    "colab_type": "code",
    "executionInfo": {
     "elapsed": 791,
     "status": "ok",
     "timestamp": 1544151778714,
     "user": {
      "displayName": "Jonathan Musiitwa",
      "photoUrl": "https://lh4.googleusercontent.com/-evRdL6KJzvo/AAAAAAAAAAI/AAAAAAAAHJo/eWkvEhPovMA/s64/photo.jpg",
      "userId": "13624096232585697906"
     },
     "user_tz": -480
    },
    "id": "ipiMXeDzlFxy",
    "outputId": "648f25da-8773-4e8a-96b7-25f27f712ddb"
   },
   "outputs": [
    {
     "data": {
      "text/plain": [
       "LogisticRegression(C=1.0, class_weight=None, dual=False, fit_intercept=True,\n",
       "          intercept_scaling=1, max_iter=100, multi_class='ovr', n_jobs=1,\n",
       "          penalty='l2', random_state=None, solver='liblinear', tol=0.0001,\n",
       "          verbose=0, warm_start=False)"
      ]
     },
     "execution_count": 62,
     "metadata": {
      "tags": []
     },
     "output_type": "execute_result"
    }
   ],
   "source": [
    "logmodel.fit(X_train, y_train)"
   ]
  },
  {
   "cell_type": "code",
   "execution_count": 106,
   "metadata": {
    "colab": {
     "base_uri": "https://localhost:8080/",
     "height": 34
    },
    "colab_type": "code",
    "executionInfo": {
     "elapsed": 1545,
     "status": "ok",
     "timestamp": 1544159223292,
     "user": {
      "displayName": "Jonathan Musiitwa",
      "photoUrl": "https://lh4.googleusercontent.com/-evRdL6KJzvo/AAAAAAAAAAI/AAAAAAAAHJo/eWkvEhPovMA/s64/photo.jpg",
      "userId": "13624096232585697906"
     },
     "user_tz": -480
    },
    "id": "cX5tZom4D5Yn",
    "outputId": "f5126c83-8438-49c5-e061-edbf32f0cf53"
   },
   "outputs": [
    {
     "data": {
      "text/plain": [
       "0.7931506849315069"
      ]
     },
     "execution_count": 106,
     "metadata": {
      "tags": []
     },
     "output_type": "execute_result"
    }
   ],
   "source": [
    "logmodel.score(X_train, y_train)"
   ]
  },
  {
   "cell_type": "code",
   "execution_count": 109,
   "metadata": {
    "colab": {
     "base_uri": "https://localhost:8080/",
     "height": 112
    },
    "colab_type": "code",
    "executionInfo": {
     "elapsed": 803,
     "status": "ok",
     "timestamp": 1544159340158,
     "user": {
      "displayName": "Jonathan Musiitwa",
      "photoUrl": "https://lh4.googleusercontent.com/-evRdL6KJzvo/AAAAAAAAAAI/AAAAAAAAHJo/eWkvEhPovMA/s64/photo.jpg",
      "userId": "13624096232585697906"
     },
     "user_tz": -480
    },
    "id": "Eg5R0egREL8I",
    "outputId": "079232b2-1cb5-426a-b7ca-ab78357497fe"
   },
   "outputs": [
    {
     "data": {
      "text/html": [
       "<div>\n",
       "<style scoped>\n",
       "    .dataframe tbody tr th:only-of-type {\n",
       "        vertical-align: middle;\n",
       "    }\n",
       "\n",
       "    .dataframe tbody tr th {\n",
       "        vertical-align: top;\n",
       "    }\n",
       "\n",
       "    .dataframe thead th {\n",
       "        text-align: right;\n",
       "    }\n",
       "</style>\n",
       "<table border=\"1\" class=\"dataframe\">\n",
       "  <thead>\n",
       "    <tr style=\"text-align: right;\">\n",
       "      <th></th>\n",
       "      <th>pclass</th>\n",
       "      <th>age</th>\n",
       "      <th>sibsp</th>\n",
       "      <th>parch</th>\n",
       "      <th>fare</th>\n",
       "      <th>male</th>\n",
       "      <th>Q</th>\n",
       "      <th>S</th>\n",
       "    </tr>\n",
       "  </thead>\n",
       "  <tbody>\n",
       "    <tr>\n",
       "      <th>400</th>\n",
       "      <td>1</td>\n",
       "      <td>0.92</td>\n",
       "      <td>1</td>\n",
       "      <td>2</td>\n",
       "      <td>151.55</td>\n",
       "      <td>1.0</td>\n",
       "      <td>0.0</td>\n",
       "      <td>1.0</td>\n",
       "    </tr>\n",
       "    <tr>\n",
       "      <th>330</th>\n",
       "      <td>2</td>\n",
       "      <td>29.00</td>\n",
       "      <td>0</td>\n",
       "      <td>0</td>\n",
       "      <td>15.05</td>\n",
       "      <td>1.0</td>\n",
       "      <td>0.0</td>\n",
       "      <td>0.0</td>\n",
       "    </tr>\n",
       "  </tbody>\n",
       "</table>\n",
       "</div>"
      ],
      "text/plain": [
       "     pclass    age  sibsp  parch    fare  male    Q    S\n",
       "400       1   0.92      1      2  151.55   1.0  0.0  1.0\n",
       "330       2  29.00      0      0   15.05   1.0  0.0  0.0"
      ]
     },
     "execution_count": 109,
     "metadata": {
      "tags": []
     },
     "output_type": "execute_result"
    }
   ],
   "source": [
    "X_test.head(2)"
   ]
  },
  {
   "cell_type": "code",
   "execution_count": 0,
   "metadata": {
    "colab": {},
    "colab_type": "code",
    "id": "II_0mAe5lMex"
   },
   "outputs": [],
   "source": [
    "logpredict = logmodel.predict(X_test)"
   ]
  },
  {
   "cell_type": "code",
   "execution_count": 0,
   "metadata": {
    "colab": {},
    "colab_type": "code",
    "id": "u0lcNzRGleHv"
   },
   "outputs": [],
   "source": [
    "from sklearn.metrics import classification_report"
   ]
  },
  {
   "cell_type": "code",
   "execution_count": 57,
   "metadata": {
    "colab": {
     "base_uri": "https://localhost:8080/",
     "height": 139
    },
    "colab_type": "code",
    "executionInfo": {
     "elapsed": 785,
     "status": "ok",
     "timestamp": 1544151332466,
     "user": {
      "displayName": "Jonathan Musiitwa",
      "photoUrl": "https://lh4.googleusercontent.com/-evRdL6KJzvo/AAAAAAAAAAI/AAAAAAAAHJo/eWkvEhPovMA/s64/photo.jpg",
      "userId": "13624096232585697906"
     },
     "user_tz": -480
    },
    "id": "E8OJ9TPPlqhQ",
    "outputId": "9f115ef7-db0e-4f5b-9d77-72fc46cb434e"
   },
   "outputs": [
    {
     "name": "stdout",
     "output_type": "stream",
     "text": [
      "             precision    recall  f1-score   support\n",
      "\n",
      "          0       0.79      0.95      0.86       191\n",
      "          1       0.89      0.60      0.72       122\n",
      "\n",
      "avg / total       0.83      0.81      0.81       313\n",
      "\n"
     ]
    }
   ],
   "source": [
    "print(classification_report(y_test, logpredict))\n"
   ]
  },
  {
   "cell_type": "markdown",
   "metadata": {
    "colab_type": "text",
    "id": "AyiKicxS059Y"
   },
   "source": [
    "This is a result of not setting the pclass as a categorical value\n",
    "\n",
    "```\n",
    "                            precision  recall   f1-score  support\n",
    "\n",
    "          0       0.79      0.95      0.86       191\n",
    "          1       0.89      0.60      0.72       122\n",
    "\n",
    "avg / total        0.83     0.81      0.81       313\n",
    "```\n",
    "\n"
   ]
  },
  {
   "cell_type": "code",
   "execution_count": 58,
   "metadata": {
    "colab": {
     "base_uri": "https://localhost:8080/",
     "height": 52
    },
    "colab_type": "code",
    "executionInfo": {
     "elapsed": 3083,
     "status": "ok",
     "timestamp": 1544151465340,
     "user": {
      "displayName": "Jonathan Musiitwa",
      "photoUrl": "https://lh4.googleusercontent.com/-evRdL6KJzvo/AAAAAAAAAAI/AAAAAAAAHJo/eWkvEhPovMA/s64/photo.jpg",
      "userId": "13624096232585697906"
     },
     "user_tz": -480
    },
    "id": "XO2465m2l7bx",
    "outputId": "a3301e76-2da4-4651-e219-3c995da483df"
   },
   "outputs": [
    {
     "data": {
      "text/plain": [
       "array([[182,   9],\n",
       "       [ 49,  73]])"
      ]
     },
     "execution_count": 58,
     "metadata": {
      "tags": []
     },
     "output_type": "execute_result"
    }
   ],
   "source": [
    "from sklearn.metrics import confusion_matrix\n",
    "confusion_matrix(y_test, logpredict)"
   ]
  },
  {
   "cell_type": "markdown",
   "metadata": {
    "colab_type": "text",
    "id": "YpmsYlbXmfl0"
   },
   "source": [
    "# Opting to use the entire test data set\n",
    "And not spliting the train set. The first step will involve cleaning the dataset"
   ]
  },
  {
   "cell_type": "code",
   "execution_count": 92,
   "metadata": {
    "colab": {
     "base_uri": "https://localhost:8080/",
     "height": 143
    },
    "colab_type": "code",
    "executionInfo": {
     "elapsed": 818,
     "status": "ok",
     "timestamp": 1544155758077,
     "user": {
      "displayName": "Jonathan Musiitwa",
      "photoUrl": "https://lh4.googleusercontent.com/-evRdL6KJzvo/AAAAAAAAAAI/AAAAAAAAHJo/eWkvEhPovMA/s64/photo.jpg",
      "userId": "13624096232585697906"
     },
     "user_tz": -480
    },
    "id": "bv1OOqpRmtjB",
    "outputId": "13fe8fcb-2b00-4e3a-efcb-6c84af802ab8"
   },
   "outputs": [
    {
     "data": {
      "text/html": [
       "<div>\n",
       "<style scoped>\n",
       "    .dataframe tbody tr th:only-of-type {\n",
       "        vertical-align: middle;\n",
       "    }\n",
       "\n",
       "    .dataframe tbody tr th {\n",
       "        vertical-align: top;\n",
       "    }\n",
       "\n",
       "    .dataframe thead th {\n",
       "        text-align: right;\n",
       "    }\n",
       "</style>\n",
       "<table border=\"1\" class=\"dataframe\">\n",
       "  <thead>\n",
       "    <tr style=\"text-align: right;\">\n",
       "      <th></th>\n",
       "      <th>pclass</th>\n",
       "      <th>survived</th>\n",
       "      <th>name</th>\n",
       "      <th>sex</th>\n",
       "      <th>age</th>\n",
       "      <th>sibsp</th>\n",
       "      <th>parch</th>\n",
       "      <th>fare</th>\n",
       "      <th>embarked</th>\n",
       "    </tr>\n",
       "  </thead>\n",
       "  <tbody>\n",
       "    <tr>\n",
       "      <th>0</th>\n",
       "      <td>3</td>\n",
       "      <td>0</td>\n",
       "      <td>Lemberopolous Mr. Peter L</td>\n",
       "      <td>male</td>\n",
       "      <td>34.50</td>\n",
       "      <td>0</td>\n",
       "      <td>0</td>\n",
       "      <td>6.4375</td>\n",
       "      <td>C</td>\n",
       "    </tr>\n",
       "    <tr>\n",
       "      <th>1</th>\n",
       "      <td>3</td>\n",
       "      <td>1</td>\n",
       "      <td>Chip Mr. Chang</td>\n",
       "      <td>male</td>\n",
       "      <td>32.00</td>\n",
       "      <td>0</td>\n",
       "      <td>0</td>\n",
       "      <td>56.4958</td>\n",
       "      <td>S</td>\n",
       "    </tr>\n",
       "    <tr>\n",
       "      <th>2</th>\n",
       "      <td>3</td>\n",
       "      <td>1</td>\n",
       "      <td>Baclini Miss. Helene Barbara</td>\n",
       "      <td>female</td>\n",
       "      <td>0.75</td>\n",
       "      <td>2</td>\n",
       "      <td>1</td>\n",
       "      <td>19.2583</td>\n",
       "      <td>C</td>\n",
       "    </tr>\n",
       "  </tbody>\n",
       "</table>\n",
       "</div>"
      ],
      "text/plain": [
       "   pclass  survived                          name     sex    age  sibsp  \\\n",
       "0       3         0     Lemberopolous Mr. Peter L    male  34.50      0   \n",
       "1       3         1                Chip Mr. Chang    male  32.00      0   \n",
       "2       3         1  Baclini Miss. Helene Barbara  female   0.75      2   \n",
       "\n",
       "   parch     fare embarked  \n",
       "0      0   6.4375        C  \n",
       "1      0  56.4958        S  \n",
       "2      1  19.2583        C  "
      ]
     },
     "execution_count": 92,
     "metadata": {
      "tags": []
     },
     "output_type": "execute_result"
    }
   ],
   "source": [
    "test.head(3)"
   ]
  },
  {
   "cell_type": "code",
   "execution_count": 89,
   "metadata": {
    "colab": {
     "base_uri": "https://localhost:8080/",
     "height": 296
    },
    "colab_type": "code",
    "executionInfo": {
     "elapsed": 792,
     "status": "ok",
     "timestamp": 1544154979834,
     "user": {
      "displayName": "Jonathan Musiitwa",
      "photoUrl": "https://lh4.googleusercontent.com/-evRdL6KJzvo/AAAAAAAAAAI/AAAAAAAAHJo/eWkvEhPovMA/s64/photo.jpg",
      "userId": "13624096232585697906"
     },
     "user_tz": -480
    },
    "id": "jj4qpVYMm0c5",
    "outputId": "81316592-f3b2-4364-c072-43c66d1b95d7"
   },
   "outputs": [
    {
     "data": {
      "text/plain": [
       "<matplotlib.axes._subplots.AxesSubplot at 0x7f1f84da7470>"
      ]
     },
     "execution_count": 89,
     "metadata": {
      "tags": []
     },
     "output_type": "execute_result"
    },
    {
     "data": {
      "image/png": "[encoded data removed]",
      "text/plain": [
       "<matplotlib.figure.Figure at 0x7f1f84d81cf8>"
      ]
     },
     "metadata": {
      "tags": []
     },
     "output_type": "display_data"
    }
   ],
   "source": [
    "sns.distplot(test['age'])"
   ]
  },
  {
   "cell_type": "code",
   "execution_count": 0,
   "metadata": {
    "colab": {},
    "colab_type": "code",
    "id": "ZKFw5BWum7pL"
   },
   "outputs": [],
   "source": [
    "test.drop(['home.dest','body','boat','ticket','cabin'], axis=1, inplace=True)"
   ]
  },
  {
   "cell_type": "code",
   "execution_count": 77,
   "metadata": {
    "colab": {
     "base_uri": "https://localhost:8080/",
     "height": 331
    },
    "colab_type": "code",
    "executionInfo": {
     "elapsed": 872,
     "status": "ok",
     "timestamp": 1544154568628,
     "user": {
      "displayName": "Jonathan Musiitwa",
      "photoUrl": "https://lh4.googleusercontent.com/-evRdL6KJzvo/AAAAAAAAAAI/AAAAAAAAHJo/eWkvEhPovMA/s64/photo.jpg",
      "userId": "13624096232585697906"
     },
     "user_tz": -480
    },
    "id": "LhssffuFn6V-",
    "outputId": "4fd5e838-4c99-4669-94f8-177d2e9448b3"
   },
   "outputs": [
    {
     "name": "stderr",
     "output_type": "stream",
     "text": [
      "/usr/local/lib/python3.6/dist-packages/seaborn/categorical.py:454: FutureWarning: remove_na is deprecated and is a private function. Do not use.\n",
      "  box_data = remove_na(group_data)\n"
     ]
    },
    {
     "data": {
      "text/plain": [
       "<matplotlib.axes._subplots.AxesSubplot at 0x7f1f850a4c88>"
      ]
     },
     "execution_count": 77,
     "metadata": {
      "tags": []
     },
     "output_type": "execute_result"
    },
    {
     "data": {
      "image/png": "[encoded data removed]",
      "text/plain": [
       "<matplotlib.figure.Figure at 0x7f1f85099128>"
      ]
     },
     "metadata": {
      "tags": []
     },
     "output_type": "display_data"
    }
   ],
   "source": [
    "sns.boxplot(x='pclass', y='age', data=test)"
   ]
  },
  {
   "cell_type": "code",
   "execution_count": 0,
   "metadata": {
    "colab": {},
    "colab_type": "code",
    "id": "r9tjibnRn0_T"
   },
   "outputs": [],
   "source": [
    "#Fill in the missing age values in the test dataset\n",
    "def impute_testage(cols):\n",
    "  age = cols[0]\n",
    "  pclass = cols[1]\n",
    "  \n",
    "  if pd.isnull(age):\n",
    "    if pclass == 1:\n",
    "      return 40\n",
    "    elif pclass == 2:\n",
    "      return 37\n",
    "    else:\n",
    "      return 22\n",
    "  else: \n",
    "      return age\n",
    "  "
   ]
  },
  {
   "cell_type": "code",
   "execution_count": 0,
   "metadata": {
    "colab": {},
    "colab_type": "code",
    "id": "56lo0KdozGLl"
   },
   "outputs": [],
   "source": [
    "test['age'] = test[['age', 'pclass']].apply(impute_testage, axis=1)"
   ]
  },
  {
   "cell_type": "code",
   "execution_count": 0,
   "metadata": {
    "colab": {},
    "colab_type": "code",
    "id": "XbT-K9eK0mfP"
   },
   "outputs": [],
   "source": [
    "is_male = pd.get_dummies(test['sex'],drop_first=True)\n",
    "embarked = pd.get_dummies(test['embarked'],drop_first=True)\n",
    "#seatclass = pd.get_dummies(test['pclass'], drop_first=True)"
   ]
  },
  {
   "cell_type": "code",
   "execution_count": 0,
   "metadata": {
    "colab": {},
    "colab_type": "code",
    "id": "PuIY73KC2BYo"
   },
   "outputs": [],
   "source": [
    "test = pd.concat([test, is_male, embarked], axis=1)"
   ]
  },
  {
   "cell_type": "code",
   "execution_count": 99,
   "metadata": {
    "colab": {
     "base_uri": "https://localhost:8080/",
     "height": 112
    },
    "colab_type": "code",
    "executionInfo": {
     "elapsed": 827,
     "status": "ok",
     "timestamp": 1544155928769,
     "user": {
      "displayName": "Jonathan Musiitwa",
      "photoUrl": "https://lh4.googleusercontent.com/-evRdL6KJzvo/AAAAAAAAAAI/AAAAAAAAHJo/eWkvEhPovMA/s64/photo.jpg",
      "userId": "13624096232585697906"
     },
     "user_tz": -480
    },
    "id": "9Vv3lLir20kc",
    "outputId": "9dc5cb09-ecfa-485e-edba-533bef00c890"
   },
   "outputs": [
    {
     "data": {
      "text/html": [
       "<div>\n",
       "<style scoped>\n",
       "    .dataframe tbody tr th:only-of-type {\n",
       "        vertical-align: middle;\n",
       "    }\n",
       "\n",
       "    .dataframe tbody tr th {\n",
       "        vertical-align: top;\n",
       "    }\n",
       "\n",
       "    .dataframe thead th {\n",
       "        text-align: right;\n",
       "    }\n",
       "</style>\n",
       "<table border=\"1\" class=\"dataframe\">\n",
       "  <thead>\n",
       "    <tr style=\"text-align: right;\">\n",
       "      <th></th>\n",
       "      <th>pclass</th>\n",
       "      <th>survived</th>\n",
       "      <th>age</th>\n",
       "      <th>sibsp</th>\n",
       "      <th>parch</th>\n",
       "      <th>fare</th>\n",
       "      <th>male</th>\n",
       "      <th>Q</th>\n",
       "      <th>S</th>\n",
       "    </tr>\n",
       "  </thead>\n",
       "  <tbody>\n",
       "    <tr>\n",
       "      <th>0</th>\n",
       "      <td>3</td>\n",
       "      <td>0</td>\n",
       "      <td>34.5</td>\n",
       "      <td>0</td>\n",
       "      <td>0</td>\n",
       "      <td>6.4375</td>\n",
       "      <td>1</td>\n",
       "      <td>0</td>\n",
       "      <td>0</td>\n",
       "    </tr>\n",
       "    <tr>\n",
       "      <th>1</th>\n",
       "      <td>3</td>\n",
       "      <td>1</td>\n",
       "      <td>32.0</td>\n",
       "      <td>0</td>\n",
       "      <td>0</td>\n",
       "      <td>56.4958</td>\n",
       "      <td>1</td>\n",
       "      <td>0</td>\n",
       "      <td>1</td>\n",
       "    </tr>\n",
       "  </tbody>\n",
       "</table>\n",
       "</div>"
      ],
      "text/plain": [
       "   pclass  survived   age  sibsp  parch     fare  male  Q  S\n",
       "0       3         0  34.5      0      0   6.4375     1  0  0\n",
       "1       3         1  32.0      0      0  56.4958     1  0  1"
      ]
     },
     "execution_count": 99,
     "metadata": {
      "tags": []
     },
     "output_type": "execute_result"
    }
   ],
   "source": [
    "test.head(2)"
   ]
  },
  {
   "cell_type": "code",
   "execution_count": 0,
   "metadata": {
    "colab": {},
    "colab_type": "code",
    "id": "VAw7HWH52pjf"
   },
   "outputs": [],
   "source": [
    "test.drop(['name', 'sex','embarked'],axis=1, inplace=True)"
   ]
  },
  {
   "cell_type": "markdown",
   "metadata": {
    "colab_type": "text",
    "id": "b99V1eTf3ge9"
   },
   "source": [
    "# Build model with test data set"
   ]
  },
  {
   "cell_type": "code",
   "execution_count": 0,
   "metadata": {
    "colab": {},
    "colab_type": "code",
    "id": "KMC4AywsEsqg"
   },
   "outputs": [],
   "source": [
    "test_X = test.drop('survived', axis=1)\n",
    "test_y = test['survived']"
   ]
  },
  {
   "cell_type": "code",
   "execution_count": 0,
   "metadata": {
    "colab": {},
    "colab_type": "code",
    "id": "-fa-HZw33kWz"
   },
   "outputs": [],
   "source": [
    "testlog = LogisticRegression()"
   ]
  },
  {
   "cell_type": "code",
   "execution_count": 101,
   "metadata": {
    "colab": {
     "base_uri": "https://localhost:8080/",
     "height": 106
    },
    "colab_type": "code",
    "executionInfo": {
     "elapsed": 1131,
     "status": "ok",
     "timestamp": 1544156302576,
     "user": {
      "displayName": "Jonathan Musiitwa",
      "photoUrl": "https://lh4.googleusercontent.com/-evRdL6KJzvo/AAAAAAAAAAI/AAAAAAAAHJo/eWkvEhPovMA/s64/photo.jpg",
      "userId": "13624096232585697906"
     },
     "user_tz": -480
    },
    "id": "YFLhjToT3wvX",
    "outputId": "1b8ebe0f-9a94-43af-80ea-2a643eea120a"
   },
   "outputs": [
    {
     "data": {
      "text/plain": [
       "LogisticRegression(C=1.0, class_weight=None, dual=False, fit_intercept=True,\n",
       "          intercept_scaling=1, max_iter=100, multi_class='ovr', n_jobs=1,\n",
       "          penalty='l2', random_state=None, solver='liblinear', tol=0.0001,\n",
       "          verbose=0, warm_start=False)"
      ]
     },
     "execution_count": 101,
     "metadata": {
      "tags": []
     },
     "output_type": "execute_result"
    }
   ],
   "source": [
    "testlog.fit(X,y)"
   ]
  },
  {
   "cell_type": "code",
   "execution_count": 0,
   "metadata": {
    "colab": {},
    "colab_type": "code",
    "id": "6pt1zgq442fK"
   },
   "outputs": [],
   "source": [
    "testpredict = logmodel.predict(test_X)"
   ]
  },
  {
   "cell_type": "code",
   "execution_count": 113,
   "metadata": {
    "colab": {
     "base_uri": "https://localhost:8080/",
     "height": 139
    },
    "colab_type": "code",
    "executionInfo": {
     "elapsed": 862,
     "status": "ok",
     "timestamp": 1544159722137,
     "user": {
      "displayName": "Jonathan Musiitwa",
      "photoUrl": "https://lh4.googleusercontent.com/-evRdL6KJzvo/AAAAAAAAAAI/AAAAAAAAHJo/eWkvEhPovMA/s64/photo.jpg",
      "userId": "13624096232585697906"
     },
     "user_tz": -480
    },
    "id": "7-pPJG_5Ffms",
    "outputId": "a5a46114-0dce-4f0c-cf56-6f814df27d2d"
   },
   "outputs": [
    {
     "name": "stdout",
     "output_type": "stream",
     "text": [
      "             precision    recall  f1-score   support\n",
      "\n",
      "          0       0.78      0.88      0.83       152\n",
      "          1       0.80      0.67      0.73       111\n",
      "\n",
      "avg / total       0.79      0.79      0.78       263\n",
      "\n"
     ]
    }
   ],
   "source": [
    "print(classification_report(test_y, testpredict))"
   ]
  },
  {
   "cell_type": "code",
   "execution_count": 115,
   "metadata": {
    "colab": {
     "base_uri": "https://localhost:8080/",
     "height": 52
    },
    "colab_type": "code",
    "executionInfo": {
     "elapsed": 772,
     "status": "ok",
     "timestamp": 1544159779639,
     "user": {
      "displayName": "Jonathan Musiitwa",
      "photoUrl": "https://lh4.googleusercontent.com/-evRdL6KJzvo/AAAAAAAAAAI/AAAAAAAAHJo/eWkvEhPovMA/s64/photo.jpg",
      "userId": "13624096232585697906"
     },
     "user_tz": -480
    },
    "id": "Jq8pSaNfF6IY",
    "outputId": "a6a926d7-52ed-4086-c1cf-fe5b77732b2a"
   },
   "outputs": [
    {
     "name": "stdout",
     "output_type": "stream",
     "text": [
      "[[133  19]\n",
      " [ 37  74]]\n"
     ]
    }
   ],
   "source": [
    "print(confusion_matrix(test_y, testpredict))"
   ]
  },
  {
   "cell_type": "code",
   "execution_count": 116,
   "metadata": {
    "colab": {
     "base_uri": "https://localhost:8080/",
     "height": 34
    },
    "colab_type": "code",
    "executionInfo": {
     "elapsed": 6049,
     "status": "ok",
     "timestamp": 1544159927042,
     "user": {
      "displayName": "Jonathan Musiitwa",
      "photoUrl": "https://lh4.googleusercontent.com/-evRdL6KJzvo/AAAAAAAAAAI/AAAAAAAAHJo/eWkvEhPovMA/s64/photo.jpg",
      "userId": "13624096232585697906"
     },
     "user_tz": -480
    },
    "id": "FlVPn29cGZoA",
    "outputId": "372df8af-07cd-440d-f8b8-622f677fc2fd"
   },
   "outputs": [
    {
     "data": {
      "text/plain": [
       "0.7870722433460076"
      ]
     },
     "execution_count": 116,
     "metadata": {
      "tags": []
     },
     "output_type": "execute_result"
    }
   ],
   "source": [
    "logmodel.score(test_X, test_y)"
   ]
  }
 ],
 "metadata": {
  "colab": {
   "name": "Logistic_Regression.ipynb",
   "provenance": [],
   "version": "0.3.2"
  },
  "kernelspec": {
   "display_name": "Python 3",
   "language": "python",
   "name": "python3"
  },
  "language_info": {
   "codemirror_mode": {
    "name": "ipython",
    "version": 3
   },
   "file_extension": ".py",
   "mimetype": "text/x-python",
   "name": "python",
   "nbconvert_exporter": "python",
   "pygments_lexer": "ipython3",
   "version": "3.7.3"
  }
 },
 "nbformat": 4,
 "nbformat_minor": 1
}
