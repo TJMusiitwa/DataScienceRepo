{
 "cells": [
  {
   "cell_type": "markdown",
   "metadata": {
    "colab_type": "text",
    "id": "-HNaMkOP9546"
   },
   "source": [
    "# Installation and Setup"
   ]
  },
  {
   "cell_type": "code",
   "execution_count": 0,
   "metadata": {
    "colab": {},
    "colab_type": "code",
    "id": "ZiYewyOP3jVf"
   },
   "outputs": [],
   "source": [
    "!pip install plotly\n",
    "!pip install cufflinks"
   ]
  },
  {
   "cell_type": "code",
   "execution_count": 0,
   "metadata": {
    "colab": {},
    "colab_type": "code",
    "id": "Idbr9diT9md8"
   },
   "outputs": [],
   "source": [
    "import pandas as pd\n",
    "import numpy as np\n",
    "import cufflinks as cf\n",
    "#import matplotlib.pyplot\n",
    "from plotly.offline import download_plotlyjs, init_notebook_mode, plot, iplot\n",
    "import plotly.graph_objs as go\n",
    "import plotly.plotly as py\n",
    "%matplotlib inline"
   ]
  },
  {
   "cell_type": "code",
   "execution_count": 124,
   "metadata": {
    "colab": {
     "base_uri": "https://localhost:8080/",
     "height": 17,
     "output_embedded_package_id": "1SlAhPCMVsgMgpYUp-ILey2JOe4tcjdma"
    },
    "colab_type": "code",
    "executionInfo": {
     "elapsed": 5733,
     "status": "ok",
     "timestamp": 1543582702568,
     "user": {
      "displayName": "Jonathan Musiitwa",
      "photoUrl": "https://lh4.googleusercontent.com/-evRdL6KJzvo/AAAAAAAAAAI/AAAAAAAAHJo/eWkvEhPovMA/s64/photo.jpg",
      "userId": "13624096232585697906"
     },
     "user_tz": -480
    },
    "id": "amOvAqVI9vHj",
    "outputId": "2207aca1-6b8d-4769-8e9f-37f7d2429f0c"
   },
   "outputs": [],
   "source": [
    "init_notebook_mode(connected=True)\n",
    "cf.go_offline()"
   ]
  }
 ],
 "metadata": {
  "accelerator": "GPU",
  "colab": {
   "name": "GeoPlotting.ipynb",
   "provenance": [],
   "version": "0.3.2"
  },
  "kernelspec": {
   "display_name": "Python 3",
   "language": "python",
   "name": "python3"
  },
  "language_info": {
   "codemirror_mode": {
    "name": "ipython",
    "version": 3
   },
   "file_extension": ".py",
   "mimetype": "text/x-python",
   "name": "python",
   "nbconvert_exporter": "python",
   "pygments_lexer": "ipython3",
   "version": "3.7.3"
  }
 },
 "nbformat": 4,
 "nbformat_minor": 1
}
