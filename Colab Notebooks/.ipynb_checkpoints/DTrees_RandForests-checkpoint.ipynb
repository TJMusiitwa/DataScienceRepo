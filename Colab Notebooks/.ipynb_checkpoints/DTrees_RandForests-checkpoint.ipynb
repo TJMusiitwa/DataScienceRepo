{
 "cells": [
  {
   "cell_type": "code",
   "execution_count": 0,
   "metadata": {
    "colab": {},
    "colab_type": "code",
    "id": "smO2Y0e0sKmd"
   },
   "outputs": [],
   "source": [
    "#!pip install python-graphviz"
   ]
  },
  {
   "cell_type": "markdown",
   "metadata": {
    "colab_type": "text",
    "id": "ZDZh4sBzpEnq"
   },
   "source": [
    "# Import Libraries"
   ]
  },
  {
   "cell_type": "code",
   "execution_count": 0,
   "metadata": {
    "colab": {},
    "colab_type": "code",
    "id": "kNmoCdMtkTnG"
   },
   "outputs": [],
   "source": [
    "import pandas as pd\n",
    "import numpy as np\n",
    "from sklearn import tree, datasets  \n",
    "from sklearn.metrics import classification_report, confusion_matrix\n",
    "from sklearn.cross_validation import train_test_split\n",
    "import seaborn as sns\n",
    "import matplotlib.pyplot as plt\n",
    "%matplotlib inline"
   ]
  },
  {
   "cell_type": "markdown",
   "metadata": {
    "colab_type": "text",
    "id": "i8x6bNnYpI1l"
   },
   "source": [
    "#Import Dataset and Explore"
   ]
  },
  {
   "cell_type": "code",
   "execution_count": 0,
   "metadata": {
    "colab": {},
    "colab_type": "code",
    "id": "OZ_Cowp4pOyM"
   },
   "outputs": [],
   "source": [
    "kyp = pd.read_csv('https://raw.githubusercontent.com/vincentarelbundock/Rdatasets/master/csv/rpart/kyphosis.csv')"
   ]
  },
  {
   "cell_type": "code",
   "execution_count": 0,
   "metadata": {
    "colab": {},
    "colab_type": "code",
    "id": "zmuZU77-pT2A"
   },
   "outputs": [],
   "source": [
    "kyp.drop('Unnamed: 0', axis=1, inplace=True)"
   ]
  },
  {
   "cell_type": "code",
   "execution_count": 8,
   "metadata": {
    "colab": {
     "base_uri": "https://localhost:8080/",
     "height": 206
    },
    "colab_type": "code",
    "executionInfo": {
     "elapsed": 777,
     "status": "ok",
     "timestamp": 1544353732186,
     "user": {
      "displayName": "Jonathan Musiitwa",
      "photoUrl": "https://lh4.googleusercontent.com/-evRdL6KJzvo/AAAAAAAAAAI/AAAAAAAAHJo/eWkvEhPovMA/s64/photo.jpg",
      "userId": "13624096232585697906"
     },
     "user_tz": -480
    },
    "id": "lxBJa3h3pgwX",
    "outputId": "d8c4a00e-b515-46b8-faa5-19830ff2e6df"
   },
   "outputs": [
    {
     "data": {
      "text/html": [
       "<div>\n",
       "<style scoped>\n",
       "    .dataframe tbody tr th:only-of-type {\n",
       "        vertical-align: middle;\n",
       "    }\n",
       "\n",
       "    .dataframe tbody tr th {\n",
       "        vertical-align: top;\n",
       "    }\n",
       "\n",
       "    .dataframe thead th {\n",
       "        text-align: right;\n",
       "    }\n",
       "</style>\n",
       "<table border=\"1\" class=\"dataframe\">\n",
       "  <thead>\n",
       "    <tr style=\"text-align: right;\">\n",
       "      <th></th>\n",
       "      <th>Kyphosis</th>\n",
       "      <th>Age</th>\n",
       "      <th>Number</th>\n",
       "      <th>Start</th>\n",
       "    </tr>\n",
       "  </thead>\n",
       "  <tbody>\n",
       "    <tr>\n",
       "      <th>0</th>\n",
       "      <td>absent</td>\n",
       "      <td>71</td>\n",
       "      <td>3</td>\n",
       "      <td>5</td>\n",
       "    </tr>\n",
       "    <tr>\n",
       "      <th>1</th>\n",
       "      <td>absent</td>\n",
       "      <td>158</td>\n",
       "      <td>3</td>\n",
       "      <td>14</td>\n",
       "    </tr>\n",
       "    <tr>\n",
       "      <th>2</th>\n",
       "      <td>present</td>\n",
       "      <td>128</td>\n",
       "      <td>4</td>\n",
       "      <td>5</td>\n",
       "    </tr>\n",
       "    <tr>\n",
       "      <th>3</th>\n",
       "      <td>absent</td>\n",
       "      <td>2</td>\n",
       "      <td>5</td>\n",
       "      <td>1</td>\n",
       "    </tr>\n",
       "    <tr>\n",
       "      <th>4</th>\n",
       "      <td>absent</td>\n",
       "      <td>1</td>\n",
       "      <td>4</td>\n",
       "      <td>15</td>\n",
       "    </tr>\n",
       "  </tbody>\n",
       "</table>\n",
       "</div>"
      ],
      "text/plain": [
       "  Kyphosis  Age  Number  Start\n",
       "0   absent   71       3      5\n",
       "1   absent  158       3     14\n",
       "2  present  128       4      5\n",
       "3   absent    2       5      1\n",
       "4   absent    1       4     15"
      ]
     },
     "execution_count": 8,
     "metadata": {
      "tags": []
     },
     "output_type": "execute_result"
    }
   ],
   "source": [
    "kyp.head()"
   ]
  },
  {
   "cell_type": "code",
   "execution_count": 9,
   "metadata": {
    "colab": {
     "base_uri": "https://localhost:8080/",
     "height": 562
    },
    "colab_type": "code",
    "executionInfo": {
     "elapsed": 2550,
     "status": "ok",
     "timestamp": 1544353815510,
     "user": {
      "displayName": "Jonathan Musiitwa",
      "photoUrl": "https://lh4.googleusercontent.com/-evRdL6KJzvo/AAAAAAAAAAI/AAAAAAAAHJo/eWkvEhPovMA/s64/photo.jpg",
      "userId": "13624096232585697906"
     },
     "user_tz": -480
    },
    "id": "YRurWTswqJmi",
    "outputId": "0d239dc1-3ba7-4aa8-de38-6db05b58da21"
   },
   "outputs": [
    {
     "data": {
      "text/plain": [
       "<seaborn.axisgrid.PairGrid at 0x7f4ee1261748>"
      ]
     },
     "execution_count": 9,
     "metadata": {
      "tags": []
     },
     "output_type": "execute_result"
    },
    {
     "data": {
      "image/png": "[encoded data removed]",
      "text/plain": [
       "<matplotlib.figure.Figure at 0x7f4eff8e2710>"
      ]
     },
     "metadata": {
      "tags": []
     },
     "output_type": "display_data"
    }
   ],
   "source": [
    "sns.pairplot(kyp, hue='Kyphosis')"
   ]
  },
  {
   "cell_type": "markdown",
   "metadata": {
    "colab_type": "text",
    "id": "AUHA7obOq31_"
   },
   "source": [
    "# Split the dataset"
   ]
  },
  {
   "cell_type": "code",
   "execution_count": 0,
   "metadata": {
    "colab": {},
    "colab_type": "code",
    "id": "5yXb7HGpqX5A"
   },
   "outputs": [],
   "source": [
    "X = kyp.drop('Kyphosis', axis=1)\n",
    "y=kyp['Kyphosis']\n",
    "X_train, X_test, y_train, y_test = train_test_split(X, y, test_size=0.3, random_state=100)"
   ]
  },
  {
   "cell_type": "markdown",
   "metadata": {
    "colab_type": "text",
    "id": "kDL7YbV5uDrK"
   },
   "source": [
    "# Decision Tree Classifier"
   ]
  },
  {
   "cell_type": "code",
   "execution_count": 0,
   "metadata": {
    "colab": {},
    "colab_type": "code",
    "id": "aohd0jEWrVIq"
   },
   "outputs": [],
   "source": [
    "ky_tree = tree.DecisionTreeClassifier()"
   ]
  },
  {
   "cell_type": "code",
   "execution_count": 14,
   "metadata": {
    "colab": {
     "base_uri": "https://localhost:8080/",
     "height": 121
    },
    "colab_type": "code",
    "executionInfo": {
     "elapsed": 672,
     "status": "ok",
     "timestamp": 1544354259955,
     "user": {
      "displayName": "Jonathan Musiitwa",
      "photoUrl": "https://lh4.googleusercontent.com/-evRdL6KJzvo/AAAAAAAAAAI/AAAAAAAAHJo/eWkvEhPovMA/s64/photo.jpg",
      "userId": "13624096232585697906"
     },
     "user_tz": -480
    },
    "id": "Kel23PQwrnK7",
    "outputId": "20a85550-fa18-4ecb-aaf7-50cffb87f27d"
   },
   "outputs": [
    {
     "data": {
      "text/plain": [
       "DecisionTreeClassifier(class_weight=None, criterion='gini', max_depth=None,\n",
       "            max_features=None, max_leaf_nodes=None,\n",
       "            min_impurity_decrease=0.0, min_impurity_split=None,\n",
       "            min_samples_leaf=1, min_samples_split=2,\n",
       "            min_weight_fraction_leaf=0.0, presort=False, random_state=None,\n",
       "            splitter='best')"
      ]
     },
     "execution_count": 14,
     "metadata": {
      "tags": []
     },
     "output_type": "execute_result"
    }
   ],
   "source": [
    "ky_tree.fit(X_train, y_train)"
   ]
  },
  {
   "cell_type": "code",
   "execution_count": 0,
   "metadata": {
    "colab": {},
    "colab_type": "code",
    "id": "Q12Vn7tUr5Hw"
   },
   "outputs": [],
   "source": [
    "ky_pred = ky_tree.predict(X_test)"
   ]
  },
  {
   "cell_type": "code",
   "execution_count": 17,
   "metadata": {
    "colab": {
     "base_uri": "https://localhost:8080/",
     "height": 208
    },
    "colab_type": "code",
    "executionInfo": {
     "elapsed": 847,
     "status": "ok",
     "timestamp": 1544354430295,
     "user": {
      "displayName": "Jonathan Musiitwa",
      "photoUrl": "https://lh4.googleusercontent.com/-evRdL6KJzvo/AAAAAAAAAAI/AAAAAAAAHJo/eWkvEhPovMA/s64/photo.jpg",
      "userId": "13624096232585697906"
     },
     "user_tz": -480
    },
    "id": "5Er9tv4msaND",
    "outputId": "bd561c40-f353-4577-e519-a31ecf231081"
   },
   "outputs": [
    {
     "name": "stdout",
     "output_type": "stream",
     "text": [
      "[[16  6]\n",
      " [ 2  1]]\n",
      "\n",
      "\n",
      "             precision    recall  f1-score   support\n",
      "\n",
      "     absent       0.89      0.73      0.80        22\n",
      "    present       0.14      0.33      0.20         3\n",
      "\n",
      "avg / total       0.80      0.68      0.73        25\n",
      "\n"
     ]
    }
   ],
   "source": [
    "print(confusion_matrix(y_test,ky_pred))\n",
    "print('\\n')\n",
    "print(classification_report(y_test,ky_pred))"
   ]
  },
  {
   "cell_type": "markdown",
   "metadata": {
    "colab_type": "text",
    "id": "kOdo1n9Ms4B9"
   },
   "source": [
    "#Random Forest Classifier"
   ]
  },
  {
   "cell_type": "code",
   "execution_count": 0,
   "metadata": {
    "colab": {},
    "colab_type": "code",
    "id": "zhScCfK3s6u_"
   },
   "outputs": [],
   "source": [
    "from sklearn.ensemble import RandomForestClassifier"
   ]
  },
  {
   "cell_type": "code",
   "execution_count": 0,
   "metadata": {
    "colab": {},
    "colab_type": "code",
    "id": "pNOA0TFjs1-i"
   },
   "outputs": [],
   "source": [
    "ky_forest = RandomForestClassifier(n_estimators = )"
   ]
  },
  {
   "cell_type": "code",
   "execution_count": 20,
   "metadata": {
    "colab": {
     "base_uri": "https://localhost:8080/",
     "height": 139
    },
    "colab_type": "code",
    "executionInfo": {
     "elapsed": 1215,
     "status": "ok",
     "timestamp": 1544354589183,
     "user": {
      "displayName": "Jonathan Musiitwa",
      "photoUrl": "https://lh4.googleusercontent.com/-evRdL6KJzvo/AAAAAAAAAAI/AAAAAAAAHJo/eWkvEhPovMA/s64/photo.jpg",
      "userId": "13624096232585697906"
     },
     "user_tz": -480
    },
    "id": "thI1PLNAtFTK",
    "outputId": "7676c61f-9f0e-495e-f76f-96fbe01ced04"
   },
   "outputs": [
    {
     "data": {
      "text/plain": [
       "RandomForestClassifier(bootstrap=True, class_weight=None, criterion='gini',\n",
       "            max_depth=None, max_features='auto', max_leaf_nodes=None,\n",
       "            min_impurity_decrease=0.0, min_impurity_split=None,\n",
       "            min_samples_leaf=1, min_samples_split=2,\n",
       "            min_weight_fraction_leaf=0.0, n_estimators=10, n_jobs=1,\n",
       "            oob_score=False, random_state=None, verbose=0,\n",
       "            warm_start=False)"
      ]
     },
     "execution_count": 20,
     "metadata": {
      "tags": []
     },
     "output_type": "execute_result"
    }
   ],
   "source": [
    "ky_forest.fit(X_train, y_train)"
   ]
  },
  {
   "cell_type": "code",
   "execution_count": 0,
   "metadata": {
    "colab": {},
    "colab_type": "code",
    "id": "COARFT2ytOPO"
   },
   "outputs": [],
   "source": [
    "kyforest_pred = ky_forest.predict(X_test)"
   ]
  },
  {
   "cell_type": "code",
   "execution_count": 22,
   "metadata": {
    "colab": {
     "base_uri": "https://localhost:8080/",
     "height": 208
    },
    "colab_type": "code",
    "executionInfo": {
     "elapsed": 1326,
     "status": "ok",
     "timestamp": 1544354658471,
     "user": {
      "displayName": "Jonathan Musiitwa",
      "photoUrl": "https://lh4.googleusercontent.com/-evRdL6KJzvo/AAAAAAAAAAI/AAAAAAAAHJo/eWkvEhPovMA/s64/photo.jpg",
      "userId": "13624096232585697906"
     },
     "user_tz": -480
    },
    "id": "mxwurIpntY-H",
    "outputId": "6c49f1d3-e7f0-4efd-8ae0-2bfda6f15c97"
   },
   "outputs": [
    {
     "name": "stdout",
     "output_type": "stream",
     "text": [
      "[[18  4]\n",
      " [ 2  1]]\n",
      "\n",
      "\n",
      "             precision    recall  f1-score   support\n",
      "\n",
      "     absent       0.90      0.82      0.86        22\n",
      "    present       0.20      0.33      0.25         3\n",
      "\n",
      "avg / total       0.82      0.76      0.78        25\n",
      "\n"
     ]
    }
   ],
   "source": [
    "print(confusion_matrix(y_test,kyforest_pred))\n",
    "print('\\n')\n",
    "print(classification_report(y_test,kyforest_pred))"
   ]
  }
 ],
 "metadata": {
  "colab": {
   "name": "DTrees&RandForests.ipynb",
   "provenance": [],
   "version": "0.3.2"
  },
  "kernelspec": {
   "display_name": "Python 3",
   "language": "python",
   "name": "python3"
  },
  "language_info": {
   "codemirror_mode": {
    "name": "ipython",
    "version": 3
   },
   "file_extension": ".py",
   "mimetype": "text/x-python",
   "name": "python",
   "nbconvert_exporter": "python",
   "pygments_lexer": "ipython3",
   "version": "3.7.3"
  }
 },
 "nbformat": 4,
 "nbformat_minor": 1
}
