{
 "nbformat": 4,
 "nbformat_minor": 2,
 "metadata": {
  "language_info": {
   "name": "python",
   "codemirror_mode": {
    "name": "ipython",
    "version": 3
   },
   "version": "3.7.3-final"
  },
  "orig_nbformat": 2,
  "file_extension": ".py",
  "mimetype": "text/x-python",
  "name": "python",
  "npconvert_exporter": "python",
  "pygments_lexer": "ipython3",
  "version": 3,
  "kernelspec": {
   "name": "python3",
   "display_name": "Python 3"
  }
 },
 "cells": [
  {
   "cell_type": "code",
   "execution_count": 1,
   "metadata": {},
   "outputs": [],
   "source": [
    "# Import required packages\n",
    "import numpy as np\n",
    "import seaborn as sns\n",
    "import matplotlib.pyplot as plt\n",
    "import pandas as pd\n",
    "\n",
    "\n",
    "import plotly.express as px\n",
    "import plotly.figure_factory as ff\n",
    "\n",
    "from sklearn.model_selection import train_test_split\n",
    "from sklearn import metrics"
   ]
  },
  {
   "cell_type": "code",
   "execution_count": 2,
   "metadata": {},
   "outputs": [],
   "source": [
    "train = pd.read_csv('train.csv', sep=',')\n",
    "test = pd.read_csv('test.csv', sep=',')"
   ]
  },
  {
   "cell_type": "code",
   "execution_count": 3,
   "metadata": {},
   "outputs": [
    {
     "data": {
      "text/html": "<div>\n<style scoped>\n    .dataframe tbody tr th:only-of-type {\n        vertical-align: middle;\n    }\n\n    .dataframe tbody tr th {\n        vertical-align: top;\n    }\n\n    .dataframe thead th {\n        text-align: right;\n    }\n</style>\n<table border=\"1\" class=\"dataframe\">\n  <thead>\n    <tr style=\"text-align: right;\">\n      <th></th>\n      <th>User_ID</th>\n      <th>Product_ID</th>\n      <th>Gender</th>\n      <th>Age</th>\n      <th>Occupation</th>\n      <th>City_Category</th>\n      <th>Stay_In_Current_City_Years</th>\n      <th>Marital_Status</th>\n      <th>Product_Category_1</th>\n      <th>Product_Category_2</th>\n      <th>Product_Category_3</th>\n      <th>Purchase</th>\n    </tr>\n  </thead>\n  <tbody>\n    <tr>\n      <th>0</th>\n      <td>1000001</td>\n      <td>P00069042</td>\n      <td>F</td>\n      <td>0-17</td>\n      <td>10</td>\n      <td>A</td>\n      <td>2</td>\n      <td>0</td>\n      <td>3</td>\n      <td>NaN</td>\n      <td>NaN</td>\n      <td>8370</td>\n    </tr>\n    <tr>\n      <th>1</th>\n      <td>1000001</td>\n      <td>P00248942</td>\n      <td>F</td>\n      <td>0-17</td>\n      <td>10</td>\n      <td>A</td>\n      <td>2</td>\n      <td>0</td>\n      <td>1</td>\n      <td>6.0</td>\n      <td>14.0</td>\n      <td>15200</td>\n    </tr>\n    <tr>\n      <th>2</th>\n      <td>1000001</td>\n      <td>P00087842</td>\n      <td>F</td>\n      <td>0-17</td>\n      <td>10</td>\n      <td>A</td>\n      <td>2</td>\n      <td>0</td>\n      <td>12</td>\n      <td>NaN</td>\n      <td>NaN</td>\n      <td>1422</td>\n    </tr>\n    <tr>\n      <th>3</th>\n      <td>1000001</td>\n      <td>P00085442</td>\n      <td>F</td>\n      <td>0-17</td>\n      <td>10</td>\n      <td>A</td>\n      <td>2</td>\n      <td>0</td>\n      <td>12</td>\n      <td>14.0</td>\n      <td>NaN</td>\n      <td>1057</td>\n    </tr>\n    <tr>\n      <th>4</th>\n      <td>1000002</td>\n      <td>P00285442</td>\n      <td>M</td>\n      <td>55+</td>\n      <td>16</td>\n      <td>C</td>\n      <td>4+</td>\n      <td>0</td>\n      <td>8</td>\n      <td>NaN</td>\n      <td>NaN</td>\n      <td>7969</td>\n    </tr>\n  </tbody>\n</table>\n</div>",
      "text/plain": "   User_ID Product_ID Gender   Age  Occupation City_Category  \\\n0  1000001  P00069042      F  0-17          10             A   \n1  1000001  P00248942      F  0-17          10             A   \n2  1000001  P00087842      F  0-17          10             A   \n3  1000001  P00085442      F  0-17          10             A   \n4  1000002  P00285442      M   55+          16             C   \n\n  Stay_In_Current_City_Years  Marital_Status  Product_Category_1  \\\n0                          2               0                   3   \n1                          2               0                   1   \n2                          2               0                  12   \n3                          2               0                  12   \n4                         4+               0                   8   \n\n   Product_Category_2  Product_Category_3  Purchase  \n0                 NaN                 NaN      8370  \n1                 6.0                14.0     15200  \n2                 NaN                 NaN      1422  \n3                14.0                 NaN      1057  \n4                 NaN                 NaN      7969  "
     },
     "execution_count": 3,
     "metadata": {},
     "output_type": "execute_result"
    }
   ],
   "source": [
    "train.head()"
   ]
  },
  {
   "cell_type": "code",
   "execution_count": 4,
   "metadata": {},
   "outputs": [
    {
     "data": {
      "text/html": "<div>\n<style scoped>\n    .dataframe tbody tr th:only-of-type {\n        vertical-align: middle;\n    }\n\n    .dataframe tbody tr th {\n        vertical-align: top;\n    }\n\n    .dataframe thead th {\n        text-align: right;\n    }\n</style>\n<table border=\"1\" class=\"dataframe\">\n  <thead>\n    <tr style=\"text-align: right;\">\n      <th></th>\n      <th>User_ID</th>\n      <th>Product_ID</th>\n      <th>Gender</th>\n      <th>Age</th>\n      <th>Occupation</th>\n      <th>City_Category</th>\n      <th>Stay_In_Current_City_Years</th>\n      <th>Marital_Status</th>\n      <th>Product_Category_1</th>\n      <th>Product_Category_2</th>\n      <th>Product_Category_3</th>\n    </tr>\n  </thead>\n  <tbody>\n    <tr>\n      <th>48808</th>\n      <td>1003284</td>\n      <td>P00110842</td>\n      <td>M</td>\n      <td>26-35</td>\n      <td>6</td>\n      <td>A</td>\n      <td>1</td>\n      <td>1</td>\n      <td>1</td>\n      <td>2.0</td>\n      <td>5.0</td>\n    </tr>\n    <tr>\n      <th>29420</th>\n      <td>1003410</td>\n      <td>P00124442</td>\n      <td>M</td>\n      <td>36-45</td>\n      <td>1</td>\n      <td>B</td>\n      <td>3</td>\n      <td>1</td>\n      <td>11</td>\n      <td>NaN</td>\n      <td>NaN</td>\n    </tr>\n    <tr>\n      <th>118623</th>\n      <td>1002873</td>\n      <td>P00198142</td>\n      <td>F</td>\n      <td>18-25</td>\n      <td>4</td>\n      <td>B</td>\n      <td>1</td>\n      <td>0</td>\n      <td>2</td>\n      <td>4.0</td>\n      <td>9.0</td>\n    </tr>\n    <tr>\n      <th>92647</th>\n      <td>1004781</td>\n      <td>P00210242</td>\n      <td>F</td>\n      <td>51-55</td>\n      <td>6</td>\n      <td>C</td>\n      <td>1</td>\n      <td>1</td>\n      <td>8</td>\n      <td>NaN</td>\n      <td>NaN</td>\n    </tr>\n    <tr>\n      <th>160477</th>\n      <td>1001133</td>\n      <td>P00023442</td>\n      <td>M</td>\n      <td>18-25</td>\n      <td>2</td>\n      <td>C</td>\n      <td>0</td>\n      <td>0</td>\n      <td>16</td>\n      <td>NaN</td>\n      <td>NaN</td>\n    </tr>\n  </tbody>\n</table>\n</div>",
      "text/plain": "        User_ID Product_ID Gender    Age  Occupation City_Category  \\\n48808   1003284  P00110842      M  26-35           6             A   \n29420   1003410  P00124442      M  36-45           1             B   \n118623  1002873  P00198142      F  18-25           4             B   \n92647   1004781  P00210242      F  51-55           6             C   \n160477  1001133  P00023442      M  18-25           2             C   \n\n       Stay_In_Current_City_Years  Marital_Status  Product_Category_1  \\\n48808                           1               1                   1   \n29420                           3               1                  11   \n118623                          1               0                   2   \n92647                           1               1                   8   \n160477                          0               0                  16   \n\n        Product_Category_2  Product_Category_3  \n48808                  2.0                 5.0  \n29420                  NaN                 NaN  \n118623                 4.0                 9.0  \n92647                  NaN                 NaN  \n160477                 NaN                 NaN  "
     },
     "execution_count": 4,
     "metadata": {},
     "output_type": "execute_result"
    }
   ],
   "source": [
    "test.sample(5)"
   ]
  },
  {
   "cell_type": "code",
   "execution_count": 5,
   "metadata": {},
   "outputs": [
    {
     "name": "stdout",
     "output_type": "stream",
     "text": "<class 'pandas.core.frame.DataFrame'>\nRangeIndex: 550068 entries, 0 to 550067\nData columns (total 12 columns):\nUser_ID                       550068 non-null int64\nProduct_ID                    550068 non-null object\nGender                        550068 non-null object\nAge                           550068 non-null object\nOccupation                    550068 non-null int64\nCity_Category                 550068 non-null object\nStay_In_Current_City_Years    550068 non-null object\nMarital_Status                550068 non-null int64\nProduct_Category_1            550068 non-null int64\nProduct_Category_2            376430 non-null float64\nProduct_Category_3            166821 non-null float64\nPurchase                      550068 non-null int64\ndtypes: float64(2), int64(5), object(5)\nmemory usage: 50.4+ MB\n"
    }
   ],
   "source": [
    "train.info()"
   ]
  },
  {
   "cell_type": "code",
   "execution_count": 6,
   "metadata": {},
   "outputs": [
    {
     "data": {
      "text/html": "<div>\n<style scoped>\n    .dataframe tbody tr th:only-of-type {\n        vertical-align: middle;\n    }\n\n    .dataframe tbody tr th {\n        vertical-align: top;\n    }\n\n    .dataframe thead th {\n        text-align: right;\n    }\n</style>\n<table border=\"1\" class=\"dataframe\">\n  <thead>\n    <tr style=\"text-align: right;\">\n      <th></th>\n      <th>User_ID</th>\n      <th>Occupation</th>\n      <th>Marital_Status</th>\n      <th>Product_Category_1</th>\n      <th>Product_Category_2</th>\n      <th>Product_Category_3</th>\n      <th>Purchase</th>\n    </tr>\n  </thead>\n  <tbody>\n    <tr>\n      <th>count</th>\n      <td>5.500680e+05</td>\n      <td>550068.000000</td>\n      <td>550068.000000</td>\n      <td>550068.000000</td>\n      <td>376430.000000</td>\n      <td>166821.000000</td>\n      <td>550068.000000</td>\n    </tr>\n    <tr>\n      <th>mean</th>\n      <td>1.003029e+06</td>\n      <td>8.076707</td>\n      <td>0.409653</td>\n      <td>5.404270</td>\n      <td>9.842329</td>\n      <td>12.668243</td>\n      <td>9263.968713</td>\n    </tr>\n    <tr>\n      <th>std</th>\n      <td>1.727592e+03</td>\n      <td>6.522660</td>\n      <td>0.491770</td>\n      <td>3.936211</td>\n      <td>5.086590</td>\n      <td>4.125338</td>\n      <td>5023.065394</td>\n    </tr>\n    <tr>\n      <th>min</th>\n      <td>1.000001e+06</td>\n      <td>0.000000</td>\n      <td>0.000000</td>\n      <td>1.000000</td>\n      <td>2.000000</td>\n      <td>3.000000</td>\n      <td>12.000000</td>\n    </tr>\n    <tr>\n      <th>25%</th>\n      <td>1.001516e+06</td>\n      <td>2.000000</td>\n      <td>0.000000</td>\n      <td>1.000000</td>\n      <td>5.000000</td>\n      <td>9.000000</td>\n      <td>5823.000000</td>\n    </tr>\n    <tr>\n      <th>50%</th>\n      <td>1.003077e+06</td>\n      <td>7.000000</td>\n      <td>0.000000</td>\n      <td>5.000000</td>\n      <td>9.000000</td>\n      <td>14.000000</td>\n      <td>8047.000000</td>\n    </tr>\n    <tr>\n      <th>75%</th>\n      <td>1.004478e+06</td>\n      <td>14.000000</td>\n      <td>1.000000</td>\n      <td>8.000000</td>\n      <td>15.000000</td>\n      <td>16.000000</td>\n      <td>12054.000000</td>\n    </tr>\n    <tr>\n      <th>max</th>\n      <td>1.006040e+06</td>\n      <td>20.000000</td>\n      <td>1.000000</td>\n      <td>20.000000</td>\n      <td>18.000000</td>\n      <td>18.000000</td>\n      <td>23961.000000</td>\n    </tr>\n  </tbody>\n</table>\n</div>",
      "text/plain": "            User_ID     Occupation  Marital_Status  Product_Category_1  \\\ncount  5.500680e+05  550068.000000   550068.000000       550068.000000   \nmean   1.003029e+06       8.076707        0.409653            5.404270   \nstd    1.727592e+03       6.522660        0.491770            3.936211   \nmin    1.000001e+06       0.000000        0.000000            1.000000   \n25%    1.001516e+06       2.000000        0.000000            1.000000   \n50%    1.003077e+06       7.000000        0.000000            5.000000   \n75%    1.004478e+06      14.000000        1.000000            8.000000   \nmax    1.006040e+06      20.000000        1.000000           20.000000   \n\n       Product_Category_2  Product_Category_3       Purchase  \ncount       376430.000000       166821.000000  550068.000000  \nmean             9.842329           12.668243    9263.968713  \nstd              5.086590            4.125338    5023.065394  \nmin              2.000000            3.000000      12.000000  \n25%              5.000000            9.000000    5823.000000  \n50%              9.000000           14.000000    8047.000000  \n75%             15.000000           16.000000   12054.000000  \nmax             18.000000           18.000000   23961.000000  "
     },
     "execution_count": 6,
     "metadata": {},
     "output_type": "execute_result"
    }
   ],
   "source": [
    "train.describe()"
   ]
  },
  {
   "cell_type": "code",
   "execution_count": null,
   "metadata": {},
   "outputs": [],
   "source": []
  }
 ]
}