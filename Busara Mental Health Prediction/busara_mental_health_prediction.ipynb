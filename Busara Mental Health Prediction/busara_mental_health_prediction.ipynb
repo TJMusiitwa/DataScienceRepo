{
 "nbformat": 4,
 "nbformat_minor": 2,
 "metadata": {
  "language_info": {
   "name": "python",
   "codemirror_mode": {
    "name": "ipython",
    "version": 3
   },
   "version": "3.7.3-final"
  },
  "orig_nbformat": 2,
  "file_extension": ".py",
  "mimetype": "text/x-python",
  "name": "python",
  "npconvert_exporter": "python",
  "pygments_lexer": "ipython3",
  "version": 3,
  "kernelspec": {
   "name": "python3",
   "display_name": "Python 3"
  }
 },
 "cells": [
  {
   "cell_type": "markdown",
   "execution_count": null,
   "metadata": {},
   "outputs": [],
   "source": [
    "# Busara Mental Health Prediction"
   ]
  },
  {
   "cell_type": "code",
   "execution_count": null,
   "metadata": {},
   "outputs": [],
   "source": [
    "import pandas as pd\n",
    "import seaborn as sns\n",
    "import numpy as np\n",
    "import matplotlib.pyplot as plt\n",
    "\n",
    "import plotly.express as px\n",
    "import plotly.figure_factory as ff\n",
    "\n",
    "#from sklearn.linear_model import LinearRegression, Lasso, Ridge\n",
    "from sklearn.neural_network import MLPClassifier\n",
    "from sklearn.ensemble import RandomForestClassifier, GradientBoostingClassifier\n",
    "from sklearn.tree import DecisionTreeClassifier\n",
    "#from sklearn.model_selection import train_test_split\n",
    "from sklearn import metrics\n",
    "\n",
    "from sklearn.feature_selection import RFE\n",
    "from statsmodels import api as sm"
   ]
  },
  {
   "cell_type": "code",
   "execution_count": null,
   "metadata": {},
   "outputs": [],
   "source": [
    "train = pd.read_csv('train.csv', sep=',')\n",
    "test = pd.read_csv('test.csv', sep=',')"
   ]
  },
  {
   "cell_type": "code",
   "execution_count": null,
   "metadata": {},
   "outputs": [],
   "source": [
    "train.head()"
   ]
  },
  {
   "cell_type": "code",
   "execution_count": null,
   "metadata": {},
   "outputs": [],
   "source": [
    "test.sample(6)"
   ]
  },
  {
   "cell_type": "code",
   "execution_count": null,
   "metadata": {},
   "outputs": [],
   "source": [
    "mental_correlation = train.corr()\n",
    "mental_correlation"
   ]
  },
  {
   "cell_type": "code",
   "execution_count": null,
   "metadata": {},
   "outputs": [],
   "source": [
    "sns.heatmap(mental_correlation.round(2))"
   ]
  },
  {
   "cell_type": "markdown",
   "execution_count": null,
   "metadata": {},
   "outputs": [],
   "source": [
    "# Feature Selection"
   ]
  },
  {
   "cell_type": "code",
   "execution_count": null,
   "metadata": {},
   "outputs": [],
   "source": [
    "X = train.drop(columns=['survey_date', 'depressed'], axis=1)\n",
    "y= train['depressed']"
   ]
  },
  {
   "cell_type": "code",
   "execution_count": null,
   "metadata": {},
   "outputs": [],
   "source": [
    "train.survey_date = train.survey_date.astype('object')"
   ]
  },
  {
   "cell_type": "code",
   "execution_count": null,
   "metadata": {},
   "outputs": [],
   "source": [
    "X.info()"
   ]
  },
  {
   "cell_type": "code",
   "execution_count": null,
   "metadata": {},
   "outputs": [],
   "source": [
    "model1 = GradientBoostingClassifier()\n",
    "\n",
    "rfe = RFE(model1, 6)\n",
    "\n",
    "X_rfe = rfe.fit_transform(X,y)\n",
    "\n",
    "model1.fit(X_rfe, y)\n",
    "print(rfe.support_)\n",
    "print(rfe.ranking_)"
   ]
  },
  {
   "cell_type": "code",
   "execution_count": null,
   "metadata": {},
   "outputs": [],
   "source": [
    "#train.drop(columns=['asset_niceroof','ent_wagelabor', 'ent_ownfarm', 'ent_business', 'ent_nonagbusiness', 'fs_enoughtom', 'fs_sleephun', 'early_survey'], inplace=True)\n",
    "\n",
    "#test.drop(columns=['asset_niceroof','ent_wagelabor', 'ent_ownfarm', 'ent_business', 'ent_nonagbusiness', 'fs_enoughtom', 'fs_sleephun', 'early_survey'], inplace=True)"
   ]
  },
  {
   "cell_type": "code",
   "execution_count": null,
   "metadata": {},
   "outputs": [],
   "source": [
    "train.columns"
   ]
  },
  {
   "cell_type": "code",
   "execution_count": null,
   "metadata": {},
   "outputs": [],
   "source": [
    "train.describe()"
   ]
  },
  {
   "cell_type": "code",
   "execution_count": 78,
   "metadata": {},
   "outputs": [
    {
     "data": {
      "text/plain": "surveyid                      0\nvillage                       0\nsurvey_date                   0\nfemaleres                     0\nage                           0\nmarried                       0\nchildren                      0\nhhsize                        0\nedu                           0\nhh_children                   0\nhh_totalmembers             334\ncons_nondurable               0\nasset_livestock               0\nasset_durable                 0\nasset_phone                   0\nasset_savings                 0\nasset_land_owned_total        0\nasset_niceroof                0\ncons_allfood                  0\ncons_ownfood                  0\ncons_alcohol                 43\ncons_tobacco                 20\ncons_med_total                0\ncons_med_children           419\ncons_ed                       0\ncons_social                   0\ncons_other                    0\nent_wagelabor                 0\nent_ownfarm                   0\nent_business                  0\n                           ... \nmed_expenses_hh_ep          693\nmed_expenses_sp_ep          878\nmed_expenses_child_ep       600\nmed_portion_sickinjured     334\nmed_port_sick_child         416\nmed_afford_port             423\nmed_sickdays_hhave          334\nmed_healthconsult           423\nmed_vacc_newborns             0\nmed_child_check               0\nmed_u5_deaths              1084\ned_expenses                 463\ned_expenses_perkid          463\ned_schoolattend             463\ned_sch_missedpc             467\ned_work_act_pc              571\nlabor_primary                 0\nwage_expenditures             0\ndurable_investment            0\nnondurable_investment         0\ngiven_mpesa                   0\namount_given_mpesa            0\nreceived_mpesa                0\namount_received_mpesa         0\nnet_mpesa                     0\nsaved_mpesa                   0\namount_saved_mpesa            0\nearly_survey                  0\ndepressed                     0\nday_of_week                   0\nLength: 75, dtype: int64"
     },
     "execution_count": 78,
     "metadata": {},
     "output_type": "execute_result"
    }
   ],
   "source": [
    "train.isnull().sum()"
   ]
  },
  {
   "cell_type": "code",
   "execution_count": null,
   "metadata": {},
   "outputs": [],
   "source": [
    "test.isnull().sum()"
   ]
  }
 ]
}